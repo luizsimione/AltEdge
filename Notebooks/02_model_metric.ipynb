{
 "cells": [
  {
   "cell_type": "code",
   "execution_count": 13,
   "id": "0c913fd2",
   "metadata": {},
   "outputs": [],
   "source": [
    "import pandas as pd\n",
    "from sklearn.metrics import mean_absolute_error, root_mean_squared_error, accuracy_score\n",
    "import numpy as np\n",
    "\n",
    "# Load predictions\n",
    "df = pd.read_csv(\"../Data/processed/player_test_predictions.csv\")"
   ]
  },
  {
   "cell_type": "markdown",
   "id": "19687b52",
   "metadata": {},
   "source": [
    "# Points"
   ]
  },
  {
   "cell_type": "code",
   "execution_count": 14,
   "id": "1fa48ce6",
   "metadata": {},
   "outputs": [],
   "source": [
    "mae_pts = mean_absolute_error(df[\"Points_actual\"], df[\"Points_pred\"])\n",
    "rmse_pts = root_mean_squared_error(df[\"Points_actual\"], df[\"Points_pred\"])"
   ]
  },
  {
   "cell_type": "markdown",
   "id": "b3b1831c",
   "metadata": {},
   "source": [
    "# O/U Accuracy"
   ]
  },
  {
   "cell_type": "code",
   "execution_count": 15,
   "id": "a89a9865",
   "metadata": {},
   "outputs": [],
   "source": [
    "pts_acc = accuracy_score(\n",
    "    df[\"Points_actual\"] > 29.5,\n",
    "    df[\"Points_recommended_over_29.5\"] == 1\n",
    ")"
   ]
  },
  {
   "cell_type": "markdown",
   "id": "223f994e",
   "metadata": {},
   "source": [
    "# Assists"
   ]
  },
  {
   "cell_type": "code",
   "execution_count": 16,
   "id": "90fc502d",
   "metadata": {},
   "outputs": [],
   "source": [
    "mae_ast = mean_absolute_error(df[\"Assists_actual\"], df[\"Assists_pred\"])\n",
    "rmse_ast = root_mean_squared_error(df[\"Assists_actual\"], df[\"Assists_pred\"])\n",
    "ast_acc = accuracy_score(\n",
    "    df[\"Assists_actual\"] > 5.5,\n",
    "    df[\"Assists_recommended_over_5.5\"] == 1\n",
    ")"
   ]
  },
  {
   "cell_type": "markdown",
   "id": "22276521",
   "metadata": {},
   "source": [
    "# Rebounds"
   ]
  },
  {
   "cell_type": "code",
   "execution_count": 17,
   "id": "af692653",
   "metadata": {},
   "outputs": [],
   "source": [
    "mae_reb = mean_absolute_error(df[\"Rebounds_actual\"], df[\"Rebounds_pred\"])\n",
    "rmse_reb = root_mean_squared_error(df[\"Rebounds_actual\"], df[\"Rebounds_pred\"])\n",
    "reb_acc = accuracy_score(\n",
    "    df[\"Rebounds_actual\"] > 5.5,\n",
    "    df[\"Rebounds_recommended_over_5.5\"] == 1\n",
    ")"
   ]
  },
  {
   "cell_type": "markdown",
   "id": "7e9790e6",
   "metadata": {},
   "source": [
    "# Results"
   ]
  },
  {
   "cell_type": "code",
   "execution_count": 18,
   "id": "0831f9d5",
   "metadata": {},
   "outputs": [
    {
     "name": "stdout",
     "output_type": "stream",
     "text": [
      "=== Model Evaluation ===\n",
      "Points - MAE: 4.72, RMSE: 5.84, Over/Under Acc: 80.00%\n",
      "Assists - MAE: 1.21, RMSE: 1.29, Over/Under Acc: 60.00%\n",
      "Rebounds - MAE: 1.96, RMSE: 2.57, Over/Under Acc: 40.00%\n"
     ]
    }
   ],
   "source": [
    "print(\"=== Model Evaluation ===\")\n",
    "print(f\"Points - MAE: {mae_pts:.2f}, RMSE: {rmse_pts:.2f}, Over/Under Acc: {pts_acc:.2%}\")\n",
    "print(f\"Assists - MAE: {mae_ast:.2f}, RMSE: {rmse_ast:.2f}, Over/Under Acc: {ast_acc:.2%}\")\n",
    "print(f\"Rebounds - MAE: {mae_reb:.2f}, RMSE: {rmse_reb:.2f}, Over/Under Acc: {reb_acc:.2%}\")"
   ]
  }
 ],
 "metadata": {
  "kernelspec": {
   "display_name": "base",
   "language": "python",
   "name": "python3"
  },
  "language_info": {
   "codemirror_mode": {
    "name": "ipython",
    "version": 3
   },
   "file_extension": ".py",
   "mimetype": "text/x-python",
   "name": "python",
   "nbconvert_exporter": "python",
   "pygments_lexer": "ipython3",
   "version": "3.12.7"
  }
 },
 "nbformat": 4,
 "nbformat_minor": 5
}

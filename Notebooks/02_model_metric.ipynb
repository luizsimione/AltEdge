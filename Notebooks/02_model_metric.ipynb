{
 "cells": [
  {
   "cell_type": "code",
   "execution_count": 1,
   "id": "0c913fd2",
   "metadata": {},
   "outputs": [],
   "source": [
    "import pandas as pd\n",
    "from sklearn.metrics import mean_absolute_error, mean_squared_error, accuracy_score\n",
    "import numpy as np\n",
    "\n",
    "# Load predictions\n",
    "df = pd.read_csv(\"../Data/processed/player_test_predictions.csv\")"
   ]
  },
  {
   "cell_type": "markdown",
   "id": "19687b52",
   "metadata": {},
   "source": [
    "# Points"
   ]
  },
  {
   "cell_type": "code",
   "execution_count": null,
   "id": "1fa48ce6",
   "metadata": {},
   "outputs": [
    {
     "ename": "NameError",
     "evalue": "name 'root_mean_squared_error' is not defined",
     "output_type": "error",
     "traceback": [
      "\u001b[0;31m---------------------------------------------------------------------------\u001b[0m",
      "\u001b[0;31mNameError\u001b[0m                                 Traceback (most recent call last)",
      "Cell \u001b[0;32mIn[2], line 2\u001b[0m\n\u001b[1;32m      1\u001b[0m mae_pts \u001b[38;5;241m=\u001b[39m mean_absolute_error(df[\u001b[38;5;124m\"\u001b[39m\u001b[38;5;124mPoints_actual\u001b[39m\u001b[38;5;124m\"\u001b[39m], df[\u001b[38;5;124m\"\u001b[39m\u001b[38;5;124mPoints_pred\u001b[39m\u001b[38;5;124m\"\u001b[39m])\n\u001b[0;32m----> 2\u001b[0m rmse_pts \u001b[38;5;241m=\u001b[39m root_mean_squared_error(df[\u001b[38;5;124m\"\u001b[39m\u001b[38;5;124mPoints_actual\u001b[39m\u001b[38;5;124m\"\u001b[39m], df[\u001b[38;5;124m\"\u001b[39m\u001b[38;5;124mPoints_pred\u001b[39m\u001b[38;5;124m\"\u001b[39m], squared\u001b[38;5;241m=\u001b[39m\u001b[38;5;28;01mFalse\u001b[39;00m)\n",
      "\u001b[0;31mNameError\u001b[0m: name 'root_mean_squared_error' is not defined"
     ]
    }
   ],
   "source": [
    "mae_pts = mean_absolute_error(df[\"Points_actual\"], df[\"Points_pred\"])\n",
    "rmse_pts = mean_squared_error(df[\"Points_actual\"], df[\"Points_pred\"], squared=False)\n"
   ]
  },
  {
   "cell_type": "markdown",
   "id": "b3b1831c",
   "metadata": {},
   "source": [
    "# O/U Accuracy"
   ]
  },
  {
   "cell_type": "code",
   "execution_count": null,
   "id": "a89a9865",
   "metadata": {},
   "outputs": [],
   "source": [
    "pts_acc = accuracy_score(\n",
    "    df[\"Points_actual\"] > 29.5,\n",
    "    df[\"Points_recommended_over_29.5\"] == 1\n",
    ")"
   ]
  },
  {
   "cell_type": "markdown",
   "id": "223f994e",
   "metadata": {},
   "source": [
    "# Assists"
   ]
  },
  {
   "cell_type": "code",
   "execution_count": null,
   "id": "90fc502d",
   "metadata": {},
   "outputs": [],
   "source": [
    "mae_ast = mean_absolute_error(df[\"Assists_actual\"], df[\"Assists_pred\"])\n",
    "rmse_ast = root_mean_squared_error(df[\"Assists_actual\"], df[\"Assists_pred\"], squared=False)\n",
    "ast_acc = accuracy_score(\n",
    "    df[\"Assists_actual\"] > 5.5,\n",
    "    df[\"Assists_recommended_over_5.5\"] == 1\n",
    ")"
   ]
  },
  {
   "cell_type": "markdown",
   "id": "22276521",
   "metadata": {},
   "source": [
    "# Rebounds"
   ]
  },
  {
   "cell_type": "code",
   "execution_count": null,
   "id": "af692653",
   "metadata": {},
   "outputs": [],
   "source": [
    "mae_ast = mean_absolute_error(df[\"Assists_actual\"], df[\"Assists_pred\"])\n",
    "rmse_ast = root_mean_squared_error(df[\"Assists_actual\"], df[\"Assists_pred\"], squared=False)\n",
    "ast_acc = accuracy_score(\n",
    "    df[\"Assists_actual\"] > 5.5,\n",
    "    df[\"Assists_recommended_over_5.5\"] == 1\n",
    ")"
   ]
  },
  {
   "cell_type": "markdown",
   "id": "7e9790e6",
   "metadata": {},
   "source": [
    "# Results"
   ]
  },
  {
   "cell_type": "code",
   "execution_count": null,
   "id": "0831f9d5",
   "metadata": {},
   "outputs": [],
   "source": [
    "mae_ast = mean_absolute_error(df[\"Assists_actual\"], df[\"Assists_pred\"])\n",
    "rmse_ast = root_mean_squared_error(df[\"Assists_actual\"], df[\"Assists_pred\"], squared=False)\n",
    "ast_acc = accuracy_score(\n",
    "    df[\"Assists_actual\"] > 5.5,\n",
    "    df[\"Assists_recommended_over_5.5\"] == 1\n",
    ")"
   ]
  }
 ],
 "metadata": {
  "kernelspec": {
   "display_name": "base",
   "language": "python",
   "name": "python3"
  },
  "language_info": {
   "codemirror_mode": {
    "name": "ipython",
    "version": 3
   },
   "file_extension": ".py",
   "mimetype": "text/x-python",
   "name": "python",
   "nbconvert_exporter": "python",
   "pygments_lexer": "ipython3",
   "version": "3.12.7"
  }
 },
 "nbformat": 4,
 "nbformat_minor": 5
}
